{
 "cells": [
  {
   "cell_type": "code",
   "execution_count": 2,
   "id": "ae67bb1f",
   "metadata": {},
   "outputs": [],
   "source": [
    "from selenium.webdriver.common.service import Service\n",
    "from selenium import webdriver\n",
    "from selenium.webdriver.chrome.service import Service\n",
    "from webdriver_manager.chrome import ChromeDriverManager\n",
    "from selenium.webdriver.common.by import By\n",
    "from selenium.webdriver.common.keys import Keys\n",
    "from time import sleep\n",
    "import pandas as pd\n",
    "import matplotlib.pyplot as plt"
   ]
  },
  {
   "cell_type": "markdown",
   "id": "0c89e87a",
   "metadata": {},
   "source": [
    "## Setting option"
   ]
  },
  {
   "cell_type": "code",
   "execution_count": 3,
   "id": "6807cec7",
   "metadata": {},
   "outputs": [],
   "source": [
    "chrome_options = webdriver.ChromeOptions()\n",
    "chrome_options.add_argument(\"start-maximized\")\n",
    "#chrome_options.add_argument(\"--headless\")\n",
    "chrome_options.add_argument(\"--disable-dev-shm-usage\")\n",
    "chrome_options.add_argument(\"--disable-infobars\")\n",
    "chrome_options.add_argument(\"--disable-extensions\")\n",
    "\n",
    "chrome_options.add_experimental_option(\n",
    "    \"prefs\", {\"profile.default_content_setting_values.notifications\": 1}\n",
    ")"
   ]
  },
  {
   "cell_type": "code",
   "execution_count": 4,
   "id": "553052e1",
   "metadata": {},
   "outputs": [],
   "source": [
    "#Điền thông tin vào user và pass\n",
    "def login(user, password):\n",
    "    txtUser = driver.find_element(\n",
    "        By.XPATH,\n",
    "        '//*[@id=\"email\"]')\n",
    "    txtUser.send_keys(user)\n",
    "    \n",
    "    txtPassword = driver.find_element(\n",
    "        By.XPATH,\n",
    "        '//*[@id=\"pass\"]')\n",
    "    txtPassword.send_keys(password)\n",
    "    txtPassword.send_keys(Keys.ENTER)\n",
    "    \n",
    "    #Các dòng code dưới là dành cho những ai bật bảo mật 2 lớp, cần nhập mã Authenticator. Không thì có thể comment lại và chạy bình thường\n",
    "    authenticator = driver.find_element( \n",
    "        By.XPATH,\n",
    "        '//*[@id=\"approvals_code\"]'\n",
    "    )\n",
    "    code = input('Nhập mã Authenticator: ')\n",
    "    authenticator.send_keys(code)\n",
    "    authenticator.send_keys(Keys.ENTER)\n",
    "\n",
    "    continue_button = driver.find_element(\n",
    "        By.XPATH,\n",
    "        '//*[@id=\"checkpointSubmitButton\"]'\n",
    "    )\n",
    "\n",
    "    return continue_button.click()"
   ]
  },
  {
   "cell_type": "code",
   "execution_count": 5,
   "id": "b83aeacd",
   "metadata": {},
   "outputs": [],
   "source": [
    "# Truy cập đường dẫn\n",
    "def access_post(url):\n",
    "    driver.get(url)\n",
    "    return"
   ]
  },
  {
   "cell_type": "code",
   "execution_count": 6,
   "id": "02da893d",
   "metadata": {},
   "outputs": [],
   "source": [
    "# Đổi chế độ tất cả bình luận\n",
    "def change_type():\n",
    "    list = driver.find_elements(\n",
    "        By.XPATH,\n",
    "        '//span[@class=\"x193iq5w xeuugli x13faqbe x1vvkbs x1xmvt09 x1lliihq x1s928wv xhkezso x1gmr53x x1cpjm7i x1fgarty x1943h6x xudqn12 x3x7a5m x6prxxf xvq8zen x1s688f xi81zsa\"]')\n",
    "    for item in list:\n",
    "        if item.text == 'Bình luận liên quan nhất':\n",
    "            change_type_button = item\n",
    "            break\n",
    "    return change_type_button.click()\n",
    "\n",
    "def show_all():\n",
    "    list = driver.find_elements(\n",
    "        By.XPATH,\n",
    "        '//div[@class=\"xu06os2 x1ok221b\"]'\n",
    "        )\n",
    "    for item in list:\n",
    "        if item.text == \"Tất cả bình luận\":\n",
    "            show_all_button = item\n",
    "\n",
    "    return show_all_button.click()"
   ]
  },
  {
   "cell_type": "markdown",
   "id": "d07ee8f2",
   "metadata": {},
   "source": [
    "## Hàm chính"
   ]
  },
  {
   "cell_type": "code",
   "execution_count": 15,
   "id": "a97e355f",
   "metadata": {},
   "outputs": [
    {
     "name": "stdout",
     "output_type": "stream",
     "text": [
      "Nhập tài khoản: dhiepthuhai\n",
      "Nhập password: Duonghiepdeptraivcl\n",
      "Nhập mã Authenticator: 503897\n",
      "Nhập link cần crawl: https://www.facebook.com/groups/1303699020274493/posts/1304576000186795/\n"
     ]
    }
   ],
   "source": [
    "driver = webdriver.Chrome(\n",
    "    service = Service(ChromeDriverManager().install()),\n",
    "    options = chrome_options\n",
    ")\n",
    "\n",
    "url = 'https://www.facebook.com/'\n",
    "driver.get(url)\n",
    "sleep(3)\n",
    "\n",
    "user = input('Nhập tài khoản: ')\n",
    "password = input('Nhập password: ')\n",
    "login(user, password)\n",
    "sleep(3)\n",
    "\n",
    "url_post = input('Nhập link cần crawl: ')\n",
    "access_post(url_post)\n",
    "sleep(3)\n",
    "\n",
    "change_type()\n",
    "sleep(2)\n",
    "\n",
    "show_all()\n",
    "sleep(2)\n",
    "\n",
    "find_show_all = driver.find_elements(\n",
    "        By.XPATH,\n",
    "        '//span[@class=\"x193iq5w xeuugli x13faqbe x1vvkbs x1xmvt09 x1lliihq x1s928wv xhkezso x1gmr53x x1cpjm7i x1fgarty x1943h6x xudqn12 x3x7a5m x6prxxf xvq8zen x1s688f xi81zsa\"]'\n",
    "    )\n",
    "\n",
    "for i in find_show_all:\n",
    "    if i.text == \"Xem các bình luận trước\":\n",
    "        show_all_button = i\n",
    "\n",
    "while True:\n",
    "    try:\n",
    "        show_all_button.click()\n",
    "        sleep(2)\n",
    "    except:\n",
    "        break\n",
    "\n",
    "name_idx = [name.text for name in driver.find_elements(By.XPATH, '//div[@class=\"xdj266r x11i5rnm xat24cr x1mh8g0r x1vvkbs\"]')]"
   ]
  },
  {
   "cell_type": "code",
   "execution_count": 16,
   "id": "cec486ae",
   "metadata": {
    "scrolled": true
   },
   "outputs": [
    {
     "data": {
      "text/plain": [
       "['14-Hiệp',\n",
       " '16-Huy',\n",
       " '29-Tùng',\n",
       " '35-Bách',\n",
       " '25-Thảo',\n",
       " '8- Đức',\n",
       " '19 - My',\n",
       " '09-Dưỡng',\n",
       " '59-Vũ',\n",
       " '48-My',\n",
       " '38-Dũng',\n",
       " '26-Thu',\n",
       " '15-Hưng',\n",
       " '51-Nhung',\n",
       " '20-My',\n",
       " '05- Chang',\n",
       " '23-Quân',\n",
       " '39- Duyên',\n",
       " '27-Tình',\n",
       " '36- Chi',\n",
       " '06-Chi',\n",
       " '57-Trang',\n",
       " '30-Vân',\n",
       " '24 - Sơn',\n",
       " '21-Ngọc',\n",
       " '60 - Yến',\n",
       " '49-Ngân',\n",
       " '45 - Lâm',\n",
       " '17-Linh',\n",
       " '41-Hạnh',\n",
       " '54-Thảo',\n",
       " '10-Giang',\n",
       " '12 - Hằng',\n",
       " '40-Giang',\n",
       " '13-Hay',\n",
       " '01-Kim Anh',\n",
       " '50_Ngọc',\n",
       " '47-Minh',\n",
       " '52-Quỳnh',\n",
       " '55_ Thuần',\n",
       " '37 - Chi',\n",
       " '18-Minh',\n",
       " '48-Hiền',\n",
       " '32-An',\n",
       " '07-Danh',\n",
       " '34-Vân Anh',\n",
       " '43-Hoàn',\n",
       " '22-Nhi',\n",
       " '11-Hà',\n",
       " '03- Ngọc Anh',\n",
       " '33-Kim Anh',\n",
       " '58- Trang',\n",
       " '44-Huyền',\n",
       " '02-Anh',\n",
       " '53- Tâm',\n",
       " '56 - Trà',\n",
       " '46-Linh',\n",
       " '28-Trâm',\n",
       " '04-Ánh']"
      ]
     },
     "execution_count": 16,
     "metadata": {},
     "output_type": "execute_result"
    }
   ],
   "source": [
    "name_idx"
   ]
  },
  {
   "cell_type": "code",
   "execution_count": 17,
   "id": "87abff6d",
   "metadata": {},
   "outputs": [],
   "source": [
    "def string_handle(lst):\n",
    "    result = ['-'.join(x.split('_')) for x in lst]\n",
    "    result = [''.join(x.split()) for x in result]\n",
    "    return result\n",
    "\n",
    "result = string_handle(name_idx)"
   ]
  },
  {
   "cell_type": "code",
   "execution_count": 18,
   "id": "51c850c5",
   "metadata": {
    "scrolled": true
   },
   "outputs": [
    {
     "data": {
      "text/plain": [
       "['01-KimAnh',\n",
       " '02-Anh',\n",
       " '03-NgọcAnh',\n",
       " '04-Ánh',\n",
       " '05-Chang',\n",
       " '06-Chi',\n",
       " '07-Danh',\n",
       " '8-Đức',\n",
       " '09-Dưỡng',\n",
       " '10-Giang',\n",
       " '11-Hà',\n",
       " '12-Hằng',\n",
       " '13-Hay',\n",
       " '14-Hiệp',\n",
       " '15-Hưng',\n",
       " '16-Huy',\n",
       " '17-Linh',\n",
       " '18-Minh',\n",
       " '19-My',\n",
       " '20-My',\n",
       " '21-Ngọc',\n",
       " '22-Nhi',\n",
       " '23-Quân',\n",
       " '24-Sơn',\n",
       " '25-Thảo',\n",
       " '26-Thu',\n",
       " '27-Tình',\n",
       " '28-Trâm',\n",
       " '29-Tùng',\n",
       " '30-Vân',\n",
       " '32-An',\n",
       " '33-KimAnh',\n",
       " '34-VânAnh',\n",
       " '35-Bách',\n",
       " '36-Chi',\n",
       " '37-Chi',\n",
       " '38-Dũng',\n",
       " '39-Duyên',\n",
       " '40-Giang',\n",
       " '41-Hạnh',\n",
       " '43-Hoàn',\n",
       " '44-Huyền',\n",
       " '45-Lâm',\n",
       " '46-Linh',\n",
       " '47-Minh',\n",
       " '48-My',\n",
       " '48-Hiền',\n",
       " '49-Ngân',\n",
       " '50-Ngọc',\n",
       " '51-Nhung',\n",
       " '52-Quỳnh',\n",
       " '53-Tâm',\n",
       " '54-Thảo',\n",
       " '55-Thuần',\n",
       " '56-Trà',\n",
       " '57-Trang',\n",
       " '58-Trang',\n",
       " '59-Vũ',\n",
       " '60-Yến']"
      ]
     },
     "execution_count": 18,
     "metadata": {},
     "output_type": "execute_result"
    }
   ],
   "source": [
    "result = sorted(result, key=lambda x:int(x.split('-')[0]))\n",
    "result"
   ]
  },
  {
   "cell_type": "code",
   "execution_count": 19,
   "id": "f823d708",
   "metadata": {},
   "outputs": [],
   "source": [
    "df = pd.DataFrame(result, columns=['Phản hồi bài 1 (03-04)'])\n",
    "df.to_excel('response1_034.xlsx', index = False)"
   ]
  },
  {
   "cell_type": "code",
   "execution_count": 20,
   "id": "f10ad319",
   "metadata": {},
   "outputs": [],
   "source": [
    "count_03 = sum(1 for x in result if int(x.split('-')[0])<=31)\n",
    "count_04 = len(result)-count_03"
   ]
  },
  {
   "cell_type": "code",
   "execution_count": 21,
   "id": "560c1fed",
   "metadata": {},
   "outputs": [],
   "source": [
    "x = ['59/41.03', '59/41.04']\n",
    "y = [count_03, count_04]"
   ]
  },
  {
   "cell_type": "code",
   "execution_count": 22,
   "id": "c9e2f2c7",
   "metadata": {},
   "outputs": [
    {
     "data": {
      "image/png": "[encoded data removed]",
      "text/plain": [
       "<Figure size 640x480 with 1 Axes>"
      ]
     },
     "metadata": {},
     "output_type": "display_data"
    }
   ],
   "source": [
    "plt.pie(y, labels=x)\n",
    "plt.title('Phản hồi bài 1 (03-04)')\n",
    "plt.legend()\n",
    "plt.savefig('my_plot.png')\n",
    "plt.show()"
   ]
  }
 ],
 "metadata": {
  "kernelspec": {
   "display_name": "Python 3 (ipykernel)",
   "language": "python",
   "name": "python3"
  },
  "language_info": {
   "codemirror_mode": {
    "name": "ipython",
    "version": 3
   },
   "file_extension": ".py",
   "mimetype": "text/x-python",
   "name": "python",
   "nbconvert_exporter": "python",
   "pygments_lexer": "ipython3",
   "version": "3.11.4"
  }
 },
 "nbformat": 4,
 "nbformat_minor": 5
}
